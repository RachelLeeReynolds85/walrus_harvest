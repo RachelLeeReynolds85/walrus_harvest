{
 "cells": [
  {
   "cell_type": "code",
   "execution_count": 2,
   "metadata": {},
   "outputs": [],
   "source": [
    "import pandas as pd\n",
    "import scipy.stats as ss\n",
    "\n",
    "%reload_ext lab_black\n",
    "\n",
    "# to convert jupyter notebook to html for easier reading elsewhere, use the following in the terminal:\n",
    "# jupyter nbconvert --to html notebook.ipynb "
   ]
  },
  {
   "cell_type": "code",
   "execution_count": 3,
   "metadata": {},
   "outputs": [
    {
     "data": {
      "text/html": [
       "<div>\n",
       "<style scoped>\n",
       "    .dataframe tbody tr th:only-of-type {\n",
       "        vertical-align: middle;\n",
       "    }\n",
       "\n",
       "    .dataframe tbody tr th {\n",
       "        vertical-align: top;\n",
       "    }\n",
       "\n",
       "    .dataframe thead th {\n",
       "        text-align: right;\n",
       "    }\n",
       "</style>\n",
       "<table border=\"1\" class=\"dataframe\">\n",
       "  <thead>\n",
       "    <tr style=\"text-align: right;\">\n",
       "      <th></th>\n",
       "      <th>WalrusType</th>\n",
       "      <th>Gambell</th>\n",
       "      <th>LittleDiomede</th>\n",
       "      <th>Wales</th>\n",
       "      <th>Nome</th>\n",
       "    </tr>\n",
       "  </thead>\n",
       "  <tbody>\n",
       "    <tr>\n",
       "      <th>0</th>\n",
       "      <td>Male</td>\n",
       "      <td>1178</td>\n",
       "      <td>1001</td>\n",
       "      <td>264</td>\n",
       "      <td>318</td>\n",
       "    </tr>\n",
       "    <tr>\n",
       "      <th>1</th>\n",
       "      <td>Female</td>\n",
       "      <td>1508</td>\n",
       "      <td>1352</td>\n",
       "      <td>229</td>\n",
       "      <td>591</td>\n",
       "    </tr>\n",
       "    <tr>\n",
       "      <th>2</th>\n",
       "      <td>Unknown Sex</td>\n",
       "      <td>222</td>\n",
       "      <td>133</td>\n",
       "      <td>77</td>\n",
       "      <td>116</td>\n",
       "    </tr>\n",
       "    <tr>\n",
       "      <th>3</th>\n",
       "      <td>Calf</td>\n",
       "      <td>1136</td>\n",
       "      <td>117</td>\n",
       "      <td>15</td>\n",
       "      <td>19</td>\n",
       "    </tr>\n",
       "  </tbody>\n",
       "</table>\n",
       "</div>"
      ],
      "text/plain": [
       "    WalrusType  Gambell  LittleDiomede  Wales  Nome\n",
       "0         Male     1178           1001    264   318\n",
       "1       Female     1508           1352    229   591\n",
       "2  Unknown Sex      222            133     77   116\n",
       "3         Calf     1136            117     15    19"
      ]
     },
     "execution_count": 3,
     "metadata": {},
     "output_type": "execute_result"
    }
   ],
   "source": [
    "df = pd.read_csv(\"WalrusSummary.csv\")\n",
    "df"
   ]
  },
  {
   "cell_type": "code",
   "execution_count": 4,
   "metadata": {},
   "outputs": [
    {
     "data": {
      "text/plain": [
       "1178"
      ]
     },
     "execution_count": 4,
     "metadata": {},
     "output_type": "execute_result"
    }
   ],
   "source": [
    "df.iloc[0, 1]"
   ]
  },
  {
   "cell_type": "code",
   "execution_count": 5,
   "metadata": {},
   "outputs": [
    {
     "data": {
      "text/html": [
       "<div>\n",
       "<style scoped>\n",
       "    .dataframe tbody tr th:only-of-type {\n",
       "        vertical-align: middle;\n",
       "    }\n",
       "\n",
       "    .dataframe tbody tr th {\n",
       "        vertical-align: top;\n",
       "    }\n",
       "\n",
       "    .dataframe thead th {\n",
       "        text-align: right;\n",
       "    }\n",
       "</style>\n",
       "<table border=\"1\" class=\"dataframe\">\n",
       "  <thead>\n",
       "    <tr style=\"text-align: right;\">\n",
       "      <th></th>\n",
       "      <th>Location</th>\n",
       "      <th>WalrusType</th>\n",
       "    </tr>\n",
       "  </thead>\n",
       "  <tbody>\n",
       "    <tr>\n",
       "      <th>0</th>\n",
       "      <td>Gambell</td>\n",
       "      <td>Male</td>\n",
       "    </tr>\n",
       "    <tr>\n",
       "      <th>1</th>\n",
       "      <td>Gambell</td>\n",
       "      <td>Male</td>\n",
       "    </tr>\n",
       "    <tr>\n",
       "      <th>2</th>\n",
       "      <td>Gambell</td>\n",
       "      <td>Male</td>\n",
       "    </tr>\n",
       "    <tr>\n",
       "      <th>3</th>\n",
       "      <td>Gambell</td>\n",
       "      <td>Male</td>\n",
       "    </tr>\n",
       "    <tr>\n",
       "      <th>4</th>\n",
       "      <td>Gambell</td>\n",
       "      <td>Male</td>\n",
       "    </tr>\n",
       "    <tr>\n",
       "      <th>...</th>\n",
       "      <td>...</td>\n",
       "      <td>...</td>\n",
       "    </tr>\n",
       "    <tr>\n",
       "      <th>8271</th>\n",
       "      <td>Nome</td>\n",
       "      <td>Calf</td>\n",
       "    </tr>\n",
       "    <tr>\n",
       "      <th>8272</th>\n",
       "      <td>Nome</td>\n",
       "      <td>Calf</td>\n",
       "    </tr>\n",
       "    <tr>\n",
       "      <th>8273</th>\n",
       "      <td>Nome</td>\n",
       "      <td>Calf</td>\n",
       "    </tr>\n",
       "    <tr>\n",
       "      <th>8274</th>\n",
       "      <td>Nome</td>\n",
       "      <td>Calf</td>\n",
       "    </tr>\n",
       "    <tr>\n",
       "      <th>8275</th>\n",
       "      <td>Nome</td>\n",
       "      <td>Calf</td>\n",
       "    </tr>\n",
       "  </tbody>\n",
       "</table>\n",
       "<p>8276 rows × 2 columns</p>\n",
       "</div>"
      ],
      "text/plain": [
       "     Location WalrusType\n",
       "0     Gambell       Male\n",
       "1     Gambell       Male\n",
       "2     Gambell       Male\n",
       "3     Gambell       Male\n",
       "4     Gambell       Male\n",
       "...       ...        ...\n",
       "8271     Nome       Calf\n",
       "8272     Nome       Calf\n",
       "8273     Nome       Calf\n",
       "8274     Nome       Calf\n",
       "8275     Nome       Calf\n",
       "\n",
       "[8276 rows x 2 columns]"
      ]
     },
     "execution_count": 5,
     "metadata": {},
     "output_type": "execute_result"
    }
   ],
   "source": [
    "walrus_data = {}\n",
    "\n",
    "\n",
    "places = [\"Gambell\", \"Little Diomede\", \"Wales\", \"Nome\"]\n",
    "\n",
    "for row in range(0, 4):\n",
    "    for col in range(1, 5):\n",
    "        for i in range(1, df.iloc[row, col] + 1):\n",
    "            walrus_data.setdefault(\"Location\", []).append(places[col - 1])\n",
    "            walrus_data.setdefault(\"WalrusType\", []).append(df.iloc[row, 0])\n",
    "\n",
    "\n",
    "walrus_data_df = pd.DataFrame(walrus_data)\n",
    "walrus_data_df"
   ]
  },
  {
   "cell_type": "code",
   "execution_count": 6,
   "metadata": {},
   "outputs": [],
   "source": [
    "walrus_data_df.to_csv(\"walrus_obs_data.csv\", index=False)"
   ]
  },
  {
   "cell_type": "code",
   "execution_count": 25,
   "metadata": {},
   "outputs": [
    {
     "data": {
      "text/plain": [
       "Female         3680\n",
       "Male           2761\n",
       "Calf           1287\n",
       "Unknown Sex     548\n",
       "Name: WalrusType, dtype: int64"
      ]
     },
     "execution_count": 25,
     "metadata": {},
     "output_type": "execute_result"
    }
   ],
   "source": [
    "walrus_data_df[\"WalrusType\"].value_counts()"
   ]
  },
  {
   "cell_type": "code",
   "execution_count": 28,
   "metadata": {},
   "outputs": [
    {
     "data": {
      "text/plain": [
       "Gambell           4044\n",
       "Little Diomede    2603\n",
       "Nome              1044\n",
       "Wales              585\n",
       "Name: Location, dtype: int64"
      ]
     },
     "execution_count": 28,
     "metadata": {},
     "output_type": "execute_result"
    }
   ],
   "source": [
    "walrus_data_df[\"Location\"].value_counts()"
   ]
  },
  {
   "cell_type": "code",
   "execution_count": 34,
   "metadata": {},
   "outputs": [
    {
     "data": {
      "text/html": [
       "<div>\n",
       "<style scoped>\n",
       "    .dataframe tbody tr th:only-of-type {\n",
       "        vertical-align: middle;\n",
       "    }\n",
       "\n",
       "    .dataframe tbody tr th {\n",
       "        vertical-align: top;\n",
       "    }\n",
       "\n",
       "    .dataframe thead th {\n",
       "        text-align: right;\n",
       "    }\n",
       "</style>\n",
       "<table border=\"1\" class=\"dataframe\">\n",
       "  <thead>\n",
       "    <tr style=\"text-align: right;\">\n",
       "      <th>Location</th>\n",
       "      <th>Gambell</th>\n",
       "      <th>Little Diomede</th>\n",
       "      <th>Nome</th>\n",
       "      <th>Wales</th>\n",
       "    </tr>\n",
       "    <tr>\n",
       "      <th>WalrusType</th>\n",
       "      <th></th>\n",
       "      <th></th>\n",
       "      <th></th>\n",
       "      <th></th>\n",
       "    </tr>\n",
       "  </thead>\n",
       "  <tbody>\n",
       "    <tr>\n",
       "      <th>Calf</th>\n",
       "      <td>1136</td>\n",
       "      <td>117</td>\n",
       "      <td>19</td>\n",
       "      <td>15</td>\n",
       "    </tr>\n",
       "    <tr>\n",
       "      <th>Female</th>\n",
       "      <td>1508</td>\n",
       "      <td>1352</td>\n",
       "      <td>591</td>\n",
       "      <td>229</td>\n",
       "    </tr>\n",
       "    <tr>\n",
       "      <th>Male</th>\n",
       "      <td>1178</td>\n",
       "      <td>1001</td>\n",
       "      <td>318</td>\n",
       "      <td>264</td>\n",
       "    </tr>\n",
       "    <tr>\n",
       "      <th>Unknown Sex</th>\n",
       "      <td>222</td>\n",
       "      <td>133</td>\n",
       "      <td>116</td>\n",
       "      <td>77</td>\n",
       "    </tr>\n",
       "  </tbody>\n",
       "</table>\n",
       "</div>"
      ],
      "text/plain": [
       "Location     Gambell  Little Diomede  Nome  Wales\n",
       "WalrusType                                       \n",
       "Calf            1136             117    19     15\n",
       "Female          1508            1352   591    229\n",
       "Male            1178            1001   318    264\n",
       "Unknown Sex      222             133   116     77"
      ]
     },
     "execution_count": 34,
     "metadata": {},
     "output_type": "execute_result"
    }
   ],
   "source": [
    "contingency_table_observed = pd.crosstab(\n",
    "    walrus_data_df[\"WalrusType\"], walrus_data_df[\"Location\"], margins=False\n",
    ")\n",
    "contingency_table_observed"
   ]
  },
  {
   "cell_type": "code",
   "execution_count": 43,
   "metadata": {},
   "outputs": [
    {
     "name": "stdout",
     "output_type": "stream",
     "text": [
      "Contingency table for walrus data is: \n",
      "Location     Gambell  Little Diomede  Nome  Wales\n",
      "WalrusType                                       \n",
      "Calf            1136             117    19     15\n",
      "Female          1508            1352   591    229\n",
      "Male            1178            1001   318    264\n",
      "Unknown Sex      222             133   116     77\n",
      "====================\n",
      "Chi-square test statistic is: 1076.70\n",
      "p-value of the test is: 4.929343e-226\n"
     ]
    }
   ],
   "source": [
    "chi_sq = ss.chi2_contingency(contingency_table_observed)[0]\n",
    "p_val = ss.chi2_contingency(contingency_table_observed)[1]\n",
    "\n",
    "\n",
    "print(\"Contingency table for walrus data is: \")\n",
    "print(contingency_table_observed)\n",
    "print(\"=\" * 20)\n",
    "print(f\"Chi-square test statistic is: {chi_sq:.2f}\")\n",
    "print(f\"p-value of the test is: {p_val:2e}\")"
   ]
  },
  {
   "cell_type": "code",
   "execution_count": null,
   "metadata": {},
   "outputs": [],
   "source": []
  }
 ],
 "metadata": {
  "environment": {
   "name": "common-cpu.m54",
   "type": "gcloud",
   "uri": "gcr.io/deeplearning-platform-release/base-cpu:m54"
  },
  "kernelspec": {
   "display_name": "Python 3",
   "language": "python",
   "name": "python3"
  },
  "language_info": {
   "codemirror_mode": {
    "name": "ipython",
    "version": 3
   },
   "file_extension": ".py",
   "mimetype": "text/x-python",
   "name": "python",
   "nbconvert_exporter": "python",
   "pygments_lexer": "ipython3",
   "version": "3.7.8"
  }
 },
 "nbformat": 4,
 "nbformat_minor": 4
}
